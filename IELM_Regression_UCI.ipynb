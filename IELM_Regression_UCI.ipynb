{
  "nbformat": 4,
  "nbformat_minor": 0,
  "metadata": {
    "colab": {
      "name": "RegUCI.ipynb",
      "provenance": [],
      "collapsed_sections": []
    },
    "kernelspec": {
      "name": "python3",
      "display_name": "Python 3"
    }
  },
  "cells": [
    {
      "cell_type": "code",
      "metadata": {
        "id": "xRPbj6AWQhyq"
      },
      "source": [
        "# importing necessary libraries\n",
        "import numpy as np\n",
        "import pandas as pd\n",
        "import math\n",
        "import time\n",
        "from sklearn.model_selection import train_test_split"
      ],
      "execution_count": 1,
      "outputs": []
    },
    {
      "cell_type": "code",
      "metadata": {
        "id": "lTscoGb7w8oV"
      },
      "source": [
        "# initialising sigmoid function as the activation \n",
        "def sigmoid(x):\n",
        "    calculate = 1/(1+np.exp(-x))\n",
        "    return calculate\n",
        "\n",
        "b = 0.01\n",
        "\n",
        "# initialising a function to predict the values with sigmoid activation function\n",
        "def valuePrediction(value,w):\n",
        "    value = value.astype(float)\n",
        "    output = sigmoid(np.dot(value, w) + b) \n",
        "    return output\n",
        "\n",
        "# function initialising to compute accuracy\n",
        "def accuracyPrediction(originalLabel,predicted):\n",
        "\n",
        "        matched = 0\n",
        "        for i in range(len(originalLabel)):\n",
        "                if originalLabel[i] == predicted[i]:\n",
        "                    matched += 1\n",
        "        accuracyVal = matched / float(len(originalLabel))      \n",
        "        return accuracyVal\n",
        "\n",
        "# initialising a train function\n",
        "def train_model(input_data, output_label):  \n",
        "    output_label = sigmoid(output_label)\n",
        "    LMax = 20\n",
        "    \n",
        "    E = output_label\n",
        "    \n",
        "    l = 0\n",
        "    defError = 0.1 \n",
        "  \n",
        "    while l < LMax :\n",
        "        l = l + 1\n",
        "        \n",
        "        # H is Hidden layer output matrix\n",
        "        H = np.zeros(shape = (input_data.shape[0],l))\n",
        "                \n",
        "        for row in input_data:\n",
        "           k=0\n",
        "           row = np.reshape(row, (1,np.product(row.shape)))\n",
        "           h = []\n",
        "           for i in range(l):\n",
        "               weights = np.random.random((input_data.shape[1],1))\n",
        "               output = valuePrediction(row,weights) \n",
        "               h.append(output)\n",
        "                   \n",
        "          # generating a 2d matrix of h\n",
        "           h = np.reshape(h, (-1, l))  \n",
        "           \n",
        "           H[k] = h[0]\n",
        "           k = k + 1\n",
        "        \n",
        "        beta = np.dot(np.linalg.pinv(H), output_label)\n",
        "                \n",
        "        E = E - np.dot(H,beta)\n",
        "\n",
        "        # computing the RMSE\n",
        "        error_value = math.sqrt( np.square(np.subtract(output_label,E)).mean() )\n",
        "    \n",
        "        if(error_value < defError) :\n",
        "            print(\"Training RMSE: \",error_value)\n",
        "            break\n",
        "        \n",
        "    return beta\n",
        "\n",
        "# initialising the testing for regression\n",
        "\n",
        "def test_model(data, output_d,b):\n",
        "    output_d =sigmoid(output_d)\n",
        "    la = b.shape[0]\n",
        "    H = np.zeros(shape = (data.shape[0],la))\n",
        "\n",
        "    for row in data:\n",
        "       k=0\n",
        "       row = np.reshape(row, (1,np.product(row.shape)))\n",
        "       h = []\n",
        "       for i in range(la):\n",
        "           weights = np.random.random((data.shape[1],1))\n",
        "           output = valuePrediction(row,weights)\n",
        "           h.append(output)\n",
        "       \n",
        "       # generate 2d matrix of h\n",
        "       h = np.reshape(h, (-1, la))  \n",
        "       \n",
        "       H[k] = h[0]\n",
        "       k = k + 1 \n",
        "    output_sig = sigmoid(np.dot(H , b))\n",
        "    rmse =  math.sqrt( np.square(np.subtract(output_d,output_sig)).mean() )\n",
        "    print(\"Testing RMSE\",rmse)\n",
        "     "
      ],
      "execution_count": 2,
      "outputs": []
    },
    {
      "cell_type": "code",
      "metadata": {
        "id": "eI4DQ3SYEoTP",
        "outputId": "3b1cacb1-7fe0-4ee0-e35d-3609f3b666bf",
        "colab": {
          "base_uri": "https://localhost:8080/",
          "height": 202
        }
      },
      "source": [
        "# reading the data from the xlsx file\n",
        "data = pd.read_excel (r'/content/drive/My Drive/Folds5x2_pp.xlsx') \n",
        "        \n",
        "# Preview the first 5 lines of the loaded data\n",
        "data.head()"
      ],
      "execution_count": 3,
      "outputs": [
        {
          "output_type": "execute_result",
          "data": {
            "text/html": [
              "<div>\n",
              "<style scoped>\n",
              "    .dataframe tbody tr th:only-of-type {\n",
              "        vertical-align: middle;\n",
              "    }\n",
              "\n",
              "    .dataframe tbody tr th {\n",
              "        vertical-align: top;\n",
              "    }\n",
              "\n",
              "    .dataframe thead th {\n",
              "        text-align: right;\n",
              "    }\n",
              "</style>\n",
              "<table border=\"1\" class=\"dataframe\">\n",
              "  <thead>\n",
              "    <tr style=\"text-align: right;\">\n",
              "      <th></th>\n",
              "      <th>AT</th>\n",
              "      <th>V</th>\n",
              "      <th>AP</th>\n",
              "      <th>RH</th>\n",
              "      <th>PE</th>\n",
              "    </tr>\n",
              "  </thead>\n",
              "  <tbody>\n",
              "    <tr>\n",
              "      <th>0</th>\n",
              "      <td>14.96</td>\n",
              "      <td>41.76</td>\n",
              "      <td>1024.07</td>\n",
              "      <td>73.17</td>\n",
              "      <td>463.26</td>\n",
              "    </tr>\n",
              "    <tr>\n",
              "      <th>1</th>\n",
              "      <td>25.18</td>\n",
              "      <td>62.96</td>\n",
              "      <td>1020.04</td>\n",
              "      <td>59.08</td>\n",
              "      <td>444.37</td>\n",
              "    </tr>\n",
              "    <tr>\n",
              "      <th>2</th>\n",
              "      <td>5.11</td>\n",
              "      <td>39.40</td>\n",
              "      <td>1012.16</td>\n",
              "      <td>92.14</td>\n",
              "      <td>488.56</td>\n",
              "    </tr>\n",
              "    <tr>\n",
              "      <th>3</th>\n",
              "      <td>20.86</td>\n",
              "      <td>57.32</td>\n",
              "      <td>1010.24</td>\n",
              "      <td>76.64</td>\n",
              "      <td>446.48</td>\n",
              "    </tr>\n",
              "    <tr>\n",
              "      <th>4</th>\n",
              "      <td>10.82</td>\n",
              "      <td>37.50</td>\n",
              "      <td>1009.23</td>\n",
              "      <td>96.62</td>\n",
              "      <td>473.90</td>\n",
              "    </tr>\n",
              "  </tbody>\n",
              "</table>\n",
              "</div>"
            ],
            "text/plain": [
              "      AT      V       AP     RH      PE\n",
              "0  14.96  41.76  1024.07  73.17  463.26\n",
              "1  25.18  62.96  1020.04  59.08  444.37\n",
              "2   5.11  39.40  1012.16  92.14  488.56\n",
              "3  20.86  57.32  1010.24  76.64  446.48\n",
              "4  10.82  37.50  1009.23  96.62  473.90"
            ]
          },
          "metadata": {
            "tags": []
          },
          "execution_count": 3
        }
      ]
    },
    {
      "cell_type": "code",
      "metadata": {
        "id": "82JvKtyeEv2a",
        "outputId": "c162cfa6-4d95-4da4-d508-a8e980beb9fa",
        "colab": {
          "base_uri": "https://localhost:8080/",
          "height": 225
        }
      },
      "source": [
        "data['AT']"
      ],
      "execution_count": 4,
      "outputs": [
        {
          "output_type": "execute_result",
          "data": {
            "text/plain": [
              "0       14.96\n",
              "1       25.18\n",
              "2        5.11\n",
              "3       20.86\n",
              "4       10.82\n",
              "        ...  \n",
              "9563    16.65\n",
              "9564    13.19\n",
              "9565    31.32\n",
              "9566    24.48\n",
              "9567    21.60\n",
              "Name: AT, Length: 9568, dtype: float64"
            ]
          },
          "metadata": {
            "tags": []
          },
          "execution_count": 4
        }
      ]
    },
    {
      "cell_type": "code",
      "metadata": {
        "id": "QmImuQEWxEJJ",
        "outputId": "f7d193a9-6e42-4aa3-bc98-3358cf0df8a7",
        "colab": {
          "base_uri": "https://localhost:8080/",
          "height": 52
        }
      },
      "source": [
        "# considering the input data\n",
        "inputData = pd.DataFrame(data, columns = ['AT', 'V', 'AP','RH']).to_numpy()\n",
        "\n",
        "# declaring the output data\n",
        "outputData = pd.DataFrame(data, columns = ['PE']).to_numpy()\n",
        "\n",
        "# splitting the train and test values with 80:20 ratio\n",
        "X_train, X_test, y_train, y_test = train_test_split(inputData, outputData, train_size=0.8, random_state = 1)\n",
        "\n",
        "# training regression\n",
        "# computing time taken\n",
        "RegressionTraining_startTime = time.time()\n",
        "\n",
        "# train_model will provide the RMSE as well\n",
        "betaRegression = train_model(X_train,y_train)\n",
        "RegressionTraining_endTime = time.time()\n",
        "\n",
        "print(\"Training time for Regression :\",abs(RegressionTraining_startTime-RegressionTraining_endTime) )\n",
        "\n"
      ],
      "execution_count": 5,
      "outputs": [
        {
          "output_type": "stream",
          "text": [
            "Training RMSE:  0.011430251099085133\n",
            "Training time for Regression : 0.26703643798828125\n"
          ],
          "name": "stdout"
        }
      ]
    },
    {
      "cell_type": "code",
      "metadata": {
        "id": "4RJafJfOXJyA",
        "outputId": "4ca72772-15ba-445b-fb5c-d93bc434b0fe",
        "colab": {
          "base_uri": "https://localhost:8080/",
          "height": 52
        }
      },
      "source": [
        "# test Regression\n",
        "# computing the time taken\n",
        "RegressionTesting_startTime = time.time()\n",
        "\n",
        "# test model will provide the RMSE value as well\n",
        "test_model(X_test,y_test,betaRegression)\n",
        "RegressionTesting_endTime = time.time()\n",
        "\n",
        "print(\"Testing time for Regression :\",abs(RegressionTesting_startTime - RegressionTesting_endTime))"
      ],
      "execution_count": 6,
      "outputs": [
        {
          "output_type": "stream",
          "text": [
            "Testing RMSE 0.4999071645728732\n",
            "Testing time for Regression : 0.06444096565246582\n"
          ],
          "name": "stdout"
        }
      ]
    }
  ]
}